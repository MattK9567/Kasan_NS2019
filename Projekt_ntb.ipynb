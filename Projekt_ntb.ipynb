{
  "cells": [
    {
      "metadata": {
        "trusted": true
      },
      "cell_type": "code",
      "source": "import pandas as pd\nimport numpy as np\n\nfrom keras.models import Sequential\nfrom keras.layers import Dense\nfrom keras.utils import np_utils\nfrom keras.utils import to_categorical\n\nfrom sklearn.model_selection import train_test_split\nfrom sklearn.metrics import confusion_matrix\n\nimport matplotlib.pyplot as plt",
      "execution_count": 1,
      "outputs": [
        {
          "output_type": "stream",
          "text": "Using TensorFlow backend.\n",
          "name": "stderr"
        }
      ]
    },
    {
      "metadata": {
        "trusted": true
      },
      "cell_type": "code",
      "source": "#nacitanie datasetu a uprava null hodnot\nweather = pd.read_excel('weatherAUS.xlsx')\nweather = weather.fillna(value='0')",
      "execution_count": 86,
      "outputs": []
    },
    {
      "metadata": {
        "trusted": true,
        "scrolled": true
      },
      "cell_type": "code",
      "source": "weather.head(10)",
      "execution_count": 87,
      "outputs": [
        {
          "output_type": "execute_result",
          "execution_count": 87,
          "data": {
            "text/html": "<div>\n<style scoped>\n    .dataframe tbody tr th:only-of-type {\n        vertical-align: middle;\n    }\n\n    .dataframe tbody tr th {\n        vertical-align: top;\n    }\n\n    .dataframe thead th {\n        text-align: right;\n    }\n</style>\n<table border=\"1\" class=\"dataframe\">\n  <thead>\n    <tr style=\"text-align: right;\">\n      <th></th>\n      <th>Date</th>\n      <th>Location</th>\n      <th>MinTemp</th>\n      <th>MaxTemp</th>\n      <th>Rainfall</th>\n      <th>Evaporation</th>\n      <th>Sunshine</th>\n      <th>WindGustDir</th>\n      <th>WindGustSpeed</th>\n      <th>WindDir9am</th>\n      <th>...</th>\n      <th>Humidity3pm</th>\n      <th>Pressure9am</th>\n      <th>Pressure3pm</th>\n      <th>Cloud9am</th>\n      <th>Cloud3pm</th>\n      <th>Temp9am</th>\n      <th>Temp3pm</th>\n      <th>RainToday</th>\n      <th>RISK_MM</th>\n      <th>RainTomorrow</th>\n    </tr>\n  </thead>\n  <tbody>\n    <tr>\n      <th>0</th>\n      <td>2008-12-01</td>\n      <td>Albury</td>\n      <td>13.4</td>\n      <td>22.9</td>\n      <td>0.6</td>\n      <td>0</td>\n      <td>0</td>\n      <td>W</td>\n      <td>44</td>\n      <td>W</td>\n      <td>...</td>\n      <td>22</td>\n      <td>1007.7</td>\n      <td>1007.1</td>\n      <td>8</td>\n      <td>0</td>\n      <td>16.9</td>\n      <td>21.8</td>\n      <td>No</td>\n      <td>0.0</td>\n      <td>No</td>\n    </tr>\n    <tr>\n      <th>1</th>\n      <td>2008-12-02</td>\n      <td>Albury</td>\n      <td>7.4</td>\n      <td>25.1</td>\n      <td>0</td>\n      <td>0</td>\n      <td>0</td>\n      <td>WNW</td>\n      <td>44</td>\n      <td>NNW</td>\n      <td>...</td>\n      <td>25</td>\n      <td>1010.6</td>\n      <td>1007.8</td>\n      <td>0</td>\n      <td>0</td>\n      <td>17.2</td>\n      <td>24.3</td>\n      <td>No</td>\n      <td>0.0</td>\n      <td>No</td>\n    </tr>\n    <tr>\n      <th>2</th>\n      <td>2008-12-03</td>\n      <td>Albury</td>\n      <td>12.9</td>\n      <td>25.7</td>\n      <td>0</td>\n      <td>0</td>\n      <td>0</td>\n      <td>WSW</td>\n      <td>46</td>\n      <td>W</td>\n      <td>...</td>\n      <td>30</td>\n      <td>1007.6</td>\n      <td>1008.7</td>\n      <td>0</td>\n      <td>2</td>\n      <td>21</td>\n      <td>23.2</td>\n      <td>No</td>\n      <td>0.0</td>\n      <td>No</td>\n    </tr>\n    <tr>\n      <th>3</th>\n      <td>2008-12-04</td>\n      <td>Albury</td>\n      <td>9.2</td>\n      <td>28</td>\n      <td>0</td>\n      <td>0</td>\n      <td>0</td>\n      <td>NE</td>\n      <td>24</td>\n      <td>SE</td>\n      <td>...</td>\n      <td>16</td>\n      <td>1017.6</td>\n      <td>1012.8</td>\n      <td>0</td>\n      <td>0</td>\n      <td>18.1</td>\n      <td>26.5</td>\n      <td>No</td>\n      <td>1.0</td>\n      <td>No</td>\n    </tr>\n    <tr>\n      <th>4</th>\n      <td>2008-12-05</td>\n      <td>Albury</td>\n      <td>17.5</td>\n      <td>32.3</td>\n      <td>1</td>\n      <td>0</td>\n      <td>0</td>\n      <td>W</td>\n      <td>41</td>\n      <td>ENE</td>\n      <td>...</td>\n      <td>33</td>\n      <td>1010.8</td>\n      <td>1006</td>\n      <td>7</td>\n      <td>8</td>\n      <td>17.8</td>\n      <td>29.7</td>\n      <td>No</td>\n      <td>0.2</td>\n      <td>No</td>\n    </tr>\n    <tr>\n      <th>5</th>\n      <td>2008-12-06</td>\n      <td>Albury</td>\n      <td>14.6</td>\n      <td>29.7</td>\n      <td>0.2</td>\n      <td>0</td>\n      <td>0</td>\n      <td>WNW</td>\n      <td>56</td>\n      <td>W</td>\n      <td>...</td>\n      <td>23</td>\n      <td>1009.2</td>\n      <td>1005.4</td>\n      <td>0</td>\n      <td>0</td>\n      <td>20.6</td>\n      <td>28.9</td>\n      <td>No</td>\n      <td>0.0</td>\n      <td>No</td>\n    </tr>\n    <tr>\n      <th>6</th>\n      <td>2008-12-07</td>\n      <td>Albury</td>\n      <td>14.3</td>\n      <td>25</td>\n      <td>0</td>\n      <td>0</td>\n      <td>0</td>\n      <td>W</td>\n      <td>50</td>\n      <td>SW</td>\n      <td>...</td>\n      <td>19</td>\n      <td>1009.6</td>\n      <td>1008.2</td>\n      <td>1</td>\n      <td>0</td>\n      <td>18.1</td>\n      <td>24.6</td>\n      <td>No</td>\n      <td>0.0</td>\n      <td>No</td>\n    </tr>\n    <tr>\n      <th>7</th>\n      <td>2008-12-08</td>\n      <td>Albury</td>\n      <td>7.7</td>\n      <td>26.7</td>\n      <td>0</td>\n      <td>0</td>\n      <td>0</td>\n      <td>W</td>\n      <td>35</td>\n      <td>SSE</td>\n      <td>...</td>\n      <td>19</td>\n      <td>1013.4</td>\n      <td>1010.1</td>\n      <td>0</td>\n      <td>0</td>\n      <td>16.3</td>\n      <td>25.5</td>\n      <td>No</td>\n      <td>0.0</td>\n      <td>No</td>\n    </tr>\n    <tr>\n      <th>8</th>\n      <td>2008-12-09</td>\n      <td>Albury</td>\n      <td>9.7</td>\n      <td>31.9</td>\n      <td>0</td>\n      <td>0</td>\n      <td>0</td>\n      <td>NNW</td>\n      <td>80</td>\n      <td>SE</td>\n      <td>...</td>\n      <td>9</td>\n      <td>1008.9</td>\n      <td>1003.6</td>\n      <td>0</td>\n      <td>0</td>\n      <td>18.3</td>\n      <td>30.2</td>\n      <td>No</td>\n      <td>1.4</td>\n      <td>Yes</td>\n    </tr>\n    <tr>\n      <th>9</th>\n      <td>2008-12-10</td>\n      <td>Albury</td>\n      <td>13.1</td>\n      <td>30.1</td>\n      <td>1.4</td>\n      <td>0</td>\n      <td>0</td>\n      <td>W</td>\n      <td>28</td>\n      <td>S</td>\n      <td>...</td>\n      <td>27</td>\n      <td>1007</td>\n      <td>1005.7</td>\n      <td>0</td>\n      <td>0</td>\n      <td>20.1</td>\n      <td>28.2</td>\n      <td>Yes</td>\n      <td>0.0</td>\n      <td>No</td>\n    </tr>\n  </tbody>\n</table>\n<p>10 rows × 24 columns</p>\n</div>",
            "text/plain": "        Date Location MinTemp MaxTemp Rainfall Evaporation Sunshine  \\\n0 2008-12-01   Albury    13.4    22.9      0.6           0        0   \n1 2008-12-02   Albury     7.4    25.1        0           0        0   \n2 2008-12-03   Albury    12.9    25.7        0           0        0   \n3 2008-12-04   Albury     9.2      28        0           0        0   \n4 2008-12-05   Albury    17.5    32.3        1           0        0   \n5 2008-12-06   Albury    14.6    29.7      0.2           0        0   \n6 2008-12-07   Albury    14.3      25        0           0        0   \n7 2008-12-08   Albury     7.7    26.7        0           0        0   \n8 2008-12-09   Albury     9.7    31.9        0           0        0   \n9 2008-12-10   Albury    13.1    30.1      1.4           0        0   \n\n  WindGustDir WindGustSpeed WindDir9am     ...      Humidity3pm Pressure9am  \\\n0           W            44          W     ...               22      1007.7   \n1         WNW            44        NNW     ...               25      1010.6   \n2         WSW            46          W     ...               30      1007.6   \n3          NE            24         SE     ...               16      1017.6   \n4           W            41        ENE     ...               33      1010.8   \n5         WNW            56          W     ...               23      1009.2   \n6           W            50         SW     ...               19      1009.6   \n7           W            35        SSE     ...               19      1013.4   \n8         NNW            80         SE     ...                9      1008.9   \n9           W            28          S     ...               27        1007   \n\n  Pressure3pm Cloud9am Cloud3pm Temp9am Temp3pm RainToday RISK_MM RainTomorrow  \n0      1007.1        8        0    16.9    21.8        No     0.0           No  \n1      1007.8        0        0    17.2    24.3        No     0.0           No  \n2      1008.7        0        2      21    23.2        No     0.0           No  \n3      1012.8        0        0    18.1    26.5        No     1.0           No  \n4        1006        7        8    17.8    29.7        No     0.2           No  \n5      1005.4        0        0    20.6    28.9        No     0.0           No  \n6      1008.2        1        0    18.1    24.6        No     0.0           No  \n7      1010.1        0        0    16.3    25.5        No     0.0           No  \n8      1003.6        0        0    18.3    30.2        No     1.4          Yes  \n9      1005.7        0        0    20.1    28.2       Yes     0.0           No  \n\n[10 rows x 24 columns]"
          },
          "metadata": {}
        }
      ]
    },
    {
      "metadata": {
        "trusted": true,
        "scrolled": true
      },
      "cell_type": "code",
      "source": "#uprava datasetu\ndata = weather[['MinTemp', 'MaxTemp', 'Rainfall', 'WindGustSpeed', 'RISK_MM']]\ndata['RainTomorrow'] = np.where((weather['RainTomorrow']) == 'Yes', 1, 0)\ndata",
      "execution_count": 88,
      "outputs": [
        {
          "output_type": "stream",
          "text": "/home/nbuser/anaconda3_501/lib/python3.6/site-packages/ipykernel/__main__.py:3: SettingWithCopyWarning: \nA value is trying to be set on a copy of a slice from a DataFrame.\nTry using .loc[row_indexer,col_indexer] = value instead\n\nSee the caveats in the documentation: http://pandas.pydata.org/pandas-docs/stable/indexing.html#indexing-view-versus-copy\n  app.launch_new_instance()\n",
          "name": "stderr"
        },
        {
          "output_type": "execute_result",
          "execution_count": 88,
          "data": {
            "text/html": "<div>\n<style scoped>\n    .dataframe tbody tr th:only-of-type {\n        vertical-align: middle;\n    }\n\n    .dataframe tbody tr th {\n        vertical-align: top;\n    }\n\n    .dataframe thead th {\n        text-align: right;\n    }\n</style>\n<table border=\"1\" class=\"dataframe\">\n  <thead>\n    <tr style=\"text-align: right;\">\n      <th></th>\n      <th>MinTemp</th>\n      <th>MaxTemp</th>\n      <th>Rainfall</th>\n      <th>WindGustSpeed</th>\n      <th>RISK_MM</th>\n      <th>RainTomorrow</th>\n    </tr>\n  </thead>\n  <tbody>\n    <tr>\n      <th>0</th>\n      <td>13.4</td>\n      <td>22.9</td>\n      <td>0.6</td>\n      <td>44</td>\n      <td>0.0</td>\n      <td>0</td>\n    </tr>\n    <tr>\n      <th>1</th>\n      <td>7.4</td>\n      <td>25.1</td>\n      <td>0</td>\n      <td>44</td>\n      <td>0.0</td>\n      <td>0</td>\n    </tr>\n    <tr>\n      <th>2</th>\n      <td>12.9</td>\n      <td>25.7</td>\n      <td>0</td>\n      <td>46</td>\n      <td>0.0</td>\n      <td>0</td>\n    </tr>\n    <tr>\n      <th>3</th>\n      <td>9.2</td>\n      <td>28</td>\n      <td>0</td>\n      <td>24</td>\n      <td>1.0</td>\n      <td>0</td>\n    </tr>\n    <tr>\n      <th>4</th>\n      <td>17.5</td>\n      <td>32.3</td>\n      <td>1</td>\n      <td>41</td>\n      <td>0.2</td>\n      <td>0</td>\n    </tr>\n    <tr>\n      <th>5</th>\n      <td>14.6</td>\n      <td>29.7</td>\n      <td>0.2</td>\n      <td>56</td>\n      <td>0.0</td>\n      <td>0</td>\n    </tr>\n    <tr>\n      <th>6</th>\n      <td>14.3</td>\n      <td>25</td>\n      <td>0</td>\n      <td>50</td>\n      <td>0.0</td>\n      <td>0</td>\n    </tr>\n    <tr>\n      <th>7</th>\n      <td>7.7</td>\n      <td>26.7</td>\n      <td>0</td>\n      <td>35</td>\n      <td>0.0</td>\n      <td>0</td>\n    </tr>\n    <tr>\n      <th>8</th>\n      <td>9.7</td>\n      <td>31.9</td>\n      <td>0</td>\n      <td>80</td>\n      <td>1.4</td>\n      <td>1</td>\n    </tr>\n    <tr>\n      <th>9</th>\n      <td>13.1</td>\n      <td>30.1</td>\n      <td>1.4</td>\n      <td>28</td>\n      <td>0.0</td>\n      <td>0</td>\n    </tr>\n    <tr>\n      <th>10</th>\n      <td>13.4</td>\n      <td>30.4</td>\n      <td>0</td>\n      <td>30</td>\n      <td>2.2</td>\n      <td>1</td>\n    </tr>\n    <tr>\n      <th>11</th>\n      <td>15.9</td>\n      <td>21.7</td>\n      <td>2.2</td>\n      <td>31</td>\n      <td>15.6</td>\n      <td>1</td>\n    </tr>\n    <tr>\n      <th>12</th>\n      <td>15.9</td>\n      <td>18.6</td>\n      <td>15.6</td>\n      <td>61</td>\n      <td>3.6</td>\n      <td>1</td>\n    </tr>\n    <tr>\n      <th>13</th>\n      <td>12.6</td>\n      <td>21</td>\n      <td>3.6</td>\n      <td>44</td>\n      <td>0.0</td>\n      <td>0</td>\n    </tr>\n    <tr>\n      <th>14</th>\n      <td>9.8</td>\n      <td>27.7</td>\n      <td>0</td>\n      <td>50</td>\n      <td>0.0</td>\n      <td>0</td>\n    </tr>\n    <tr>\n      <th>15</th>\n      <td>14.1</td>\n      <td>20.9</td>\n      <td>0</td>\n      <td>22</td>\n      <td>16.8</td>\n      <td>1</td>\n    </tr>\n    <tr>\n      <th>16</th>\n      <td>13.5</td>\n      <td>22.9</td>\n      <td>16.8</td>\n      <td>63</td>\n      <td>10.6</td>\n      <td>1</td>\n    </tr>\n    <tr>\n      <th>17</th>\n      <td>11.2</td>\n      <td>22.5</td>\n      <td>10.6</td>\n      <td>43</td>\n      <td>0.0</td>\n      <td>0</td>\n    </tr>\n    <tr>\n      <th>18</th>\n      <td>9.8</td>\n      <td>25.6</td>\n      <td>0</td>\n      <td>26</td>\n      <td>0.0</td>\n      <td>0</td>\n    </tr>\n    <tr>\n      <th>19</th>\n      <td>11.5</td>\n      <td>29.3</td>\n      <td>0</td>\n      <td>24</td>\n      <td>0.0</td>\n      <td>0</td>\n    </tr>\n    <tr>\n      <th>20</th>\n      <td>17.1</td>\n      <td>33</td>\n      <td>0</td>\n      <td>43</td>\n      <td>0.0</td>\n      <td>0</td>\n    </tr>\n    <tr>\n      <th>21</th>\n      <td>20.5</td>\n      <td>31.8</td>\n      <td>0</td>\n      <td>41</td>\n      <td>0.0</td>\n      <td>0</td>\n    </tr>\n    <tr>\n      <th>22</th>\n      <td>15.3</td>\n      <td>30.9</td>\n      <td>0</td>\n      <td>33</td>\n      <td>0.0</td>\n      <td>0</td>\n    </tr>\n    <tr>\n      <th>23</th>\n      <td>12.6</td>\n      <td>32.4</td>\n      <td>0</td>\n      <td>43</td>\n      <td>0.0</td>\n      <td>0</td>\n    </tr>\n    <tr>\n      <th>24</th>\n      <td>16.2</td>\n      <td>33.9</td>\n      <td>0</td>\n      <td>35</td>\n      <td>0.0</td>\n      <td>0</td>\n    </tr>\n    <tr>\n      <th>25</th>\n      <td>16.9</td>\n      <td>33</td>\n      <td>0</td>\n      <td>57</td>\n      <td>0.0</td>\n      <td>0</td>\n    </tr>\n    <tr>\n      <th>26</th>\n      <td>20.1</td>\n      <td>32.7</td>\n      <td>0</td>\n      <td>48</td>\n      <td>0.0</td>\n      <td>0</td>\n    </tr>\n    <tr>\n      <th>27</th>\n      <td>19.7</td>\n      <td>27.2</td>\n      <td>0</td>\n      <td>46</td>\n      <td>1.2</td>\n      <td>1</td>\n    </tr>\n    <tr>\n      <th>28</th>\n      <td>12.5</td>\n      <td>24.2</td>\n      <td>1.2</td>\n      <td>50</td>\n      <td>0.8</td>\n      <td>0</td>\n    </tr>\n    <tr>\n      <th>29</th>\n      <td>12</td>\n      <td>24.4</td>\n      <td>0.8</td>\n      <td>39</td>\n      <td>0.0</td>\n      <td>0</td>\n    </tr>\n    <tr>\n      <th>...</th>\n      <td>...</td>\n      <td>...</td>\n      <td>...</td>\n      <td>...</td>\n      <td>...</td>\n      <td>...</td>\n    </tr>\n    <tr>\n      <th>142163</th>\n      <td>14.3</td>\n      <td>27.6</td>\n      <td>0.4</td>\n      <td>39</td>\n      <td>0.0</td>\n      <td>0</td>\n    </tr>\n    <tr>\n      <th>142164</th>\n      <td>9.3</td>\n      <td>28</td>\n      <td>0</td>\n      <td>28</td>\n      <td>0.0</td>\n      <td>0</td>\n    </tr>\n    <tr>\n      <th>142165</th>\n      <td>8</td>\n      <td>24.6</td>\n      <td>0</td>\n      <td>33</td>\n      <td>0.0</td>\n      <td>0</td>\n    </tr>\n    <tr>\n      <th>142166</th>\n      <td>12.7</td>\n      <td>22.2</td>\n      <td>0</td>\n      <td>37</td>\n      <td>0.0</td>\n      <td>0</td>\n    </tr>\n    <tr>\n      <th>142167</th>\n      <td>9.4</td>\n      <td>22.7</td>\n      <td>0</td>\n      <td>35</td>\n      <td>0.0</td>\n      <td>0</td>\n    </tr>\n    <tr>\n      <th>142168</th>\n      <td>5.4</td>\n      <td>20.5</td>\n      <td>0</td>\n      <td>46</td>\n      <td>0.0</td>\n      <td>0</td>\n    </tr>\n    <tr>\n      <th>142169</th>\n      <td>5.6</td>\n      <td>19.4</td>\n      <td>0</td>\n      <td>43</td>\n      <td>0.0</td>\n      <td>0</td>\n    </tr>\n    <tr>\n      <th>142170</th>\n      <td>1.5</td>\n      <td>19.2</td>\n      <td>0</td>\n      <td>37</td>\n      <td>0.0</td>\n      <td>0</td>\n    </tr>\n    <tr>\n      <th>142171</th>\n      <td>3.8</td>\n      <td>19.8</td>\n      <td>0</td>\n      <td>39</td>\n      <td>0.0</td>\n      <td>0</td>\n    </tr>\n    <tr>\n      <th>142172</th>\n      <td>4.5</td>\n      <td>18.8</td>\n      <td>0</td>\n      <td>31</td>\n      <td>0.0</td>\n      <td>0</td>\n    </tr>\n    <tr>\n      <th>142173</th>\n      <td>4.9</td>\n      <td>20.7</td>\n      <td>0</td>\n      <td>37</td>\n      <td>0.0</td>\n      <td>0</td>\n    </tr>\n    <tr>\n      <th>142174</th>\n      <td>1.2</td>\n      <td>20.8</td>\n      <td>0</td>\n      <td>43</td>\n      <td>0.0</td>\n      <td>0</td>\n    </tr>\n    <tr>\n      <th>142175</th>\n      <td>0.5</td>\n      <td>21.7</td>\n      <td>0</td>\n      <td>43</td>\n      <td>0.0</td>\n      <td>0</td>\n    </tr>\n    <tr>\n      <th>142176</th>\n      <td>4</td>\n      <td>20</td>\n      <td>0</td>\n      <td>39</td>\n      <td>0.0</td>\n      <td>0</td>\n    </tr>\n    <tr>\n      <th>142177</th>\n      <td>3.4</td>\n      <td>19.8</td>\n      <td>0</td>\n      <td>43</td>\n      <td>0.0</td>\n      <td>0</td>\n    </tr>\n    <tr>\n      <th>142178</th>\n      <td>3.2</td>\n      <td>18.6</td>\n      <td>0</td>\n      <td>46</td>\n      <td>0.0</td>\n      <td>0</td>\n    </tr>\n    <tr>\n      <th>142179</th>\n      <td>2.4</td>\n      <td>19.1</td>\n      <td>0</td>\n      <td>33</td>\n      <td>0.0</td>\n      <td>0</td>\n    </tr>\n    <tr>\n      <th>142180</th>\n      <td>5.1</td>\n      <td>19.7</td>\n      <td>0</td>\n      <td>46</td>\n      <td>0.0</td>\n      <td>0</td>\n    </tr>\n    <tr>\n      <th>142181</th>\n      <td>2.5</td>\n      <td>21.2</td>\n      <td>0</td>\n      <td>35</td>\n      <td>0.0</td>\n      <td>0</td>\n    </tr>\n    <tr>\n      <th>142182</th>\n      <td>2.3</td>\n      <td>21.4</td>\n      <td>0</td>\n      <td>22</td>\n      <td>0.0</td>\n      <td>0</td>\n    </tr>\n    <tr>\n      <th>142183</th>\n      <td>2.6</td>\n      <td>22.5</td>\n      <td>0</td>\n      <td>19</td>\n      <td>0.0</td>\n      <td>0</td>\n    </tr>\n    <tr>\n      <th>142184</th>\n      <td>5.2</td>\n      <td>24.3</td>\n      <td>0</td>\n      <td>24</td>\n      <td>0.0</td>\n      <td>0</td>\n    </tr>\n    <tr>\n      <th>142185</th>\n      <td>6.4</td>\n      <td>23.4</td>\n      <td>0</td>\n      <td>31</td>\n      <td>0.0</td>\n      <td>0</td>\n    </tr>\n    <tr>\n      <th>142186</th>\n      <td>8</td>\n      <td>20.7</td>\n      <td>0</td>\n      <td>41</td>\n      <td>0.0</td>\n      <td>0</td>\n    </tr>\n    <tr>\n      <th>142187</th>\n      <td>7.4</td>\n      <td>20.6</td>\n      <td>0</td>\n      <td>35</td>\n      <td>0.0</td>\n      <td>0</td>\n    </tr>\n    <tr>\n      <th>142188</th>\n      <td>3.5</td>\n      <td>21.8</td>\n      <td>0</td>\n      <td>31</td>\n      <td>0.0</td>\n      <td>0</td>\n    </tr>\n    <tr>\n      <th>142189</th>\n      <td>2.8</td>\n      <td>23.4</td>\n      <td>0</td>\n      <td>31</td>\n      <td>0.0</td>\n      <td>0</td>\n    </tr>\n    <tr>\n      <th>142190</th>\n      <td>3.6</td>\n      <td>25.3</td>\n      <td>0</td>\n      <td>22</td>\n      <td>0.0</td>\n      <td>0</td>\n    </tr>\n    <tr>\n      <th>142191</th>\n      <td>5.4</td>\n      <td>26.9</td>\n      <td>0</td>\n      <td>37</td>\n      <td>0.0</td>\n      <td>0</td>\n    </tr>\n    <tr>\n      <th>142192</th>\n      <td>7.8</td>\n      <td>27</td>\n      <td>0</td>\n      <td>28</td>\n      <td>0.0</td>\n      <td>0</td>\n    </tr>\n  </tbody>\n</table>\n<p>142193 rows × 6 columns</p>\n</div>",
            "text/plain": "       MinTemp MaxTemp Rainfall WindGustSpeed  RISK_MM  RainTomorrow\n0         13.4    22.9      0.6            44      0.0             0\n1          7.4    25.1        0            44      0.0             0\n2         12.9    25.7        0            46      0.0             0\n3          9.2      28        0            24      1.0             0\n4         17.5    32.3        1            41      0.2             0\n5         14.6    29.7      0.2            56      0.0             0\n6         14.3      25        0            50      0.0             0\n7          7.7    26.7        0            35      0.0             0\n8          9.7    31.9        0            80      1.4             1\n9         13.1    30.1      1.4            28      0.0             0\n10        13.4    30.4        0            30      2.2             1\n11        15.9    21.7      2.2            31     15.6             1\n12        15.9    18.6     15.6            61      3.6             1\n13        12.6      21      3.6            44      0.0             0\n14         9.8    27.7        0            50      0.0             0\n15        14.1    20.9        0            22     16.8             1\n16        13.5    22.9     16.8            63     10.6             1\n17        11.2    22.5     10.6            43      0.0             0\n18         9.8    25.6        0            26      0.0             0\n19        11.5    29.3        0            24      0.0             0\n20        17.1      33        0            43      0.0             0\n21        20.5    31.8        0            41      0.0             0\n22        15.3    30.9        0            33      0.0             0\n23        12.6    32.4        0            43      0.0             0\n24        16.2    33.9        0            35      0.0             0\n25        16.9      33        0            57      0.0             0\n26        20.1    32.7        0            48      0.0             0\n27        19.7    27.2        0            46      1.2             1\n28        12.5    24.2      1.2            50      0.8             0\n29          12    24.4      0.8            39      0.0             0\n...        ...     ...      ...           ...      ...           ...\n142163    14.3    27.6      0.4            39      0.0             0\n142164     9.3      28        0            28      0.0             0\n142165       8    24.6        0            33      0.0             0\n142166    12.7    22.2        0            37      0.0             0\n142167     9.4    22.7        0            35      0.0             0\n142168     5.4    20.5        0            46      0.0             0\n142169     5.6    19.4        0            43      0.0             0\n142170     1.5    19.2        0            37      0.0             0\n142171     3.8    19.8        0            39      0.0             0\n142172     4.5    18.8        0            31      0.0             0\n142173     4.9    20.7        0            37      0.0             0\n142174     1.2    20.8        0            43      0.0             0\n142175     0.5    21.7        0            43      0.0             0\n142176       4      20        0            39      0.0             0\n142177     3.4    19.8        0            43      0.0             0\n142178     3.2    18.6        0            46      0.0             0\n142179     2.4    19.1        0            33      0.0             0\n142180     5.1    19.7        0            46      0.0             0\n142181     2.5    21.2        0            35      0.0             0\n142182     2.3    21.4        0            22      0.0             0\n142183     2.6    22.5        0            19      0.0             0\n142184     5.2    24.3        0            24      0.0             0\n142185     6.4    23.4        0            31      0.0             0\n142186       8    20.7        0            41      0.0             0\n142187     7.4    20.6        0            35      0.0             0\n142188     3.5    21.8        0            31      0.0             0\n142189     2.8    23.4        0            31      0.0             0\n142190     3.6    25.3        0            22      0.0             0\n142191     5.4    26.9        0            37      0.0             0\n142192     7.8      27        0            28      0.0             0\n\n[142193 rows x 6 columns]"
          },
          "metadata": {}
        }
      ]
    },
    {
      "metadata": {
        "trusted": true
      },
      "cell_type": "code",
      "source": "#rozdelenie datasetu\nX = data[['MinTemp', 'MaxTemp', 'Rainfall', 'WindGustSpeed', 'RISK_MM']]\ny = data['RainTomorrow']\n\nX_train, X_test, y_train, y_test = train_test_split(X, y, test_size=0.2)",
      "execution_count": 89,
      "outputs": []
    },
    {
      "metadata": {
        "trusted": true
      },
      "cell_type": "code",
      "source": "kategoricka_premenna = np_utils.to_categorical(y_train)",
      "execution_count": 90,
      "outputs": []
    },
    {
      "metadata": {
        "trusted": true
      },
      "cell_type": "code",
      "source": "#trenovanie siete\nmodel = Sequential()\nmodel.add(Dense(30, input_dim=5, activation='sigmoid'))\nmodel.add(Dense(15, activation='relu'))\nmodel.add(Dense(2))\n\nmodel.compile(loss='mean_squared_error', optimizer='sgd', metrics=['accuracy'])",
      "execution_count": 119,
      "outputs": []
    },
    {
      "metadata": {
        "trusted": true
      },
      "cell_type": "code",
      "source": "#vypis chyby\nchyba = model.fit(X_train,kategoricka_premenna, epochs=10)",
      "execution_count": null,
      "outputs": [
        {
          "output_type": "stream",
          "text": "Epoch 1/10\n113754/113754 [==============================] - 7s 63us/step - loss: 0.0463 - acc: 0.9478\nEpoch 2/10\n113754/113754 [==============================] - 6s 55us/step - loss: 0.0179 - acc: 0.9869\nEpoch 3/10\n113754/113754 [==============================] - 7s 59us/step - loss: 0.0143 - acc: 0.9911\nEpoch 4/10\n113754/113754 [==============================] - 7s 58us/step - loss: 0.0127 - acc: 0.9930\nEpoch 5/10\n113754/113754 [==============================] - 8s 69us/step - loss: 0.0117 - acc: 0.9936\nEpoch 6/10\n113754/113754 [==============================] - 9s 78us/step - loss: 0.0111 - acc: 0.9936\nEpoch 7/10\n 87168/113754 [=====================>........] - ETA: 1s - loss: 0.0106 - acc: 0.9942",
          "name": "stdout"
        }
      ]
    },
    {
      "metadata": {
        "trusted": true
      },
      "cell_type": "code",
      "source": "#evaluacia modelu\nscores = model.evaluate(X_train, kategoricka_premenna)\nprint(\"\\nAccuracy: %.2f%%\" % (scores[1]*100))",
      "execution_count": null,
      "outputs": []
    },
    {
      "metadata": {
        "trusted": true
      },
      "cell_type": "code",
      "source": "#porovnanie dat\nconfusion_matrix(y_test, model.predict_classes(X_test))",
      "execution_count": null,
      "outputs": []
    },
    {
      "metadata": {
        "trusted": true
      },
      "cell_type": "code",
      "source": "#zobrazenie poklesu chyby pomocou grafu\nplt.plot(chyba.history['loss'])\nplt.show()",
      "execution_count": null,
      "outputs": []
    },
    {
      "metadata": {
        "trusted": true
      },
      "cell_type": "code",
      "source": "",
      "execution_count": null,
      "outputs": []
    }
  ],
  "metadata": {
    "kernelspec": {
      "name": "python36",
      "display_name": "Python 3.6",
      "language": "python"
    },
    "language_info": {
      "mimetype": "text/x-python",
      "nbconvert_exporter": "python",
      "name": "python",
      "pygments_lexer": "ipython3",
      "version": "3.6.6",
      "file_extension": ".py",
      "codemirror_mode": {
        "version": 3,
        "name": "ipython"
      }
    }
  },
  "nbformat": 4,
  "nbformat_minor": 2
}