{
  "cells": [
    {
      "metadata": {
        "trusted": true
      },
      "cell_type": "code",
      "source": "import pandas as pd\nimport numpy as np",
      "execution_count": 1,
      "outputs": []
    },
    {
      "metadata": {
        "trusted": true
      },
      "cell_type": "code",
      "source": "weather = pd.read_excel('weatherAUS_EXCEL.xlsx')",
      "execution_count": 2,
      "outputs": []
    },
    {
      "metadata": {
        "trusted": true
      },
      "cell_type": "code",
      "source": "weather.head()",
      "execution_count": 3,
      "outputs": [
        {
          "output_type": "execute_result",
          "execution_count": 3,
          "data": {
            "text/html": "<div>\n<style scoped>\n    .dataframe tbody tr th:only-of-type {\n        vertical-align: middle;\n    }\n\n    .dataframe tbody tr th {\n        vertical-align: top;\n    }\n\n    .dataframe thead th {\n        text-align: right;\n    }\n</style>\n<table border=\"1\" class=\"dataframe\">\n  <thead>\n    <tr style=\"text-align: right;\">\n      <th></th>\n      <th>Date</th>\n      <th>Location</th>\n      <th>MinTemp</th>\n      <th>MaxTemp</th>\n      <th>Rainfall</th>\n      <th>Evaporation</th>\n      <th>Sunshine</th>\n      <th>WindGustDir</th>\n      <th>WindGustSpeed</th>\n      <th>WindDir9am</th>\n      <th>...</th>\n      <th>Humidity3pm</th>\n      <th>Pressure9am</th>\n      <th>Pressure3pm</th>\n      <th>Cloud9am</th>\n      <th>Cloud3pm</th>\n      <th>Temp9am</th>\n      <th>Temp3pm</th>\n      <th>RainToday</th>\n      <th>RISK_MM</th>\n      <th>RainTomorrow</th>\n    </tr>\n  </thead>\n  <tbody>\n    <tr>\n      <th>0</th>\n      <td>2008-12-01</td>\n      <td>Albury</td>\n      <td>2019-04-13 00:00:00</td>\n      <td>2019-09-22 00:00:00</td>\n      <td>0.6</td>\n      <td>NaN</td>\n      <td>NaN</td>\n      <td>W</td>\n      <td>44.0</td>\n      <td>W</td>\n      <td>...</td>\n      <td>22.0</td>\n      <td>1007.7</td>\n      <td>1007.1</td>\n      <td>8.0</td>\n      <td>NaN</td>\n      <td>2019-09-16 00:00:00</td>\n      <td>2019-08-21 00:00:00</td>\n      <td>No</td>\n      <td>0</td>\n      <td>No</td>\n    </tr>\n    <tr>\n      <th>1</th>\n      <td>2008-12-02</td>\n      <td>Albury</td>\n      <td>2019-04-07 00:00:00</td>\n      <td>2019-01-25 00:00:00</td>\n      <td>0</td>\n      <td>NaN</td>\n      <td>NaN</td>\n      <td>WNW</td>\n      <td>44.0</td>\n      <td>NNW</td>\n      <td>...</td>\n      <td>25.0</td>\n      <td>1010.6</td>\n      <td>1007.8</td>\n      <td>NaN</td>\n      <td>NaN</td>\n      <td>2019-02-17 00:00:00</td>\n      <td>2019-03-24 00:00:00</td>\n      <td>No</td>\n      <td>0</td>\n      <td>No</td>\n    </tr>\n    <tr>\n      <th>2</th>\n      <td>2008-12-03</td>\n      <td>Albury</td>\n      <td>2019-09-12 00:00:00</td>\n      <td>2019-07-25 00:00:00</td>\n      <td>0</td>\n      <td>NaN</td>\n      <td>NaN</td>\n      <td>WSW</td>\n      <td>46.0</td>\n      <td>W</td>\n      <td>...</td>\n      <td>30.0</td>\n      <td>1007.6</td>\n      <td>1008.7</td>\n      <td>NaN</td>\n      <td>2.0</td>\n      <td>21</td>\n      <td>2019-02-23 00:00:00</td>\n      <td>No</td>\n      <td>0</td>\n      <td>No</td>\n    </tr>\n    <tr>\n      <th>3</th>\n      <td>2008-12-04</td>\n      <td>Albury</td>\n      <td>2019-02-09 00:00:00</td>\n      <td>28</td>\n      <td>0</td>\n      <td>NaN</td>\n      <td>NaN</td>\n      <td>NE</td>\n      <td>24.0</td>\n      <td>SE</td>\n      <td>...</td>\n      <td>16.0</td>\n      <td>1017.6</td>\n      <td>1012.8</td>\n      <td>NaN</td>\n      <td>NaN</td>\n      <td>2019-01-18 00:00:00</td>\n      <td>2019-05-26 00:00:00</td>\n      <td>No</td>\n      <td>1</td>\n      <td>No</td>\n    </tr>\n    <tr>\n      <th>4</th>\n      <td>2008-12-05</td>\n      <td>Albury</td>\n      <td>2019-05-17 00:00:00</td>\n      <td>32.3</td>\n      <td>1</td>\n      <td>NaN</td>\n      <td>NaN</td>\n      <td>W</td>\n      <td>41.0</td>\n      <td>ENE</td>\n      <td>...</td>\n      <td>33.0</td>\n      <td>1010.8</td>\n      <td>1006.0</td>\n      <td>7.0</td>\n      <td>8.0</td>\n      <td>2019-08-17 00:00:00</td>\n      <td>2019-07-29 00:00:00</td>\n      <td>No</td>\n      <td>0.2</td>\n      <td>No</td>\n    </tr>\n  </tbody>\n</table>\n<p>5 rows × 24 columns</p>\n</div>",
            "text/plain": "        Date Location              MinTemp              MaxTemp Rainfall  \\\n0 2008-12-01   Albury  2019-04-13 00:00:00  2019-09-22 00:00:00      0.6   \n1 2008-12-02   Albury  2019-04-07 00:00:00  2019-01-25 00:00:00        0   \n2 2008-12-03   Albury  2019-09-12 00:00:00  2019-07-25 00:00:00        0   \n3 2008-12-04   Albury  2019-02-09 00:00:00                   28        0   \n4 2008-12-05   Albury  2019-05-17 00:00:00                 32.3        1   \n\n  Evaporation Sunshine WindGustDir  WindGustSpeed WindDir9am     ...       \\\n0         NaN      NaN           W           44.0          W     ...        \n1         NaN      NaN         WNW           44.0        NNW     ...        \n2         NaN      NaN         WSW           46.0          W     ...        \n3         NaN      NaN          NE           24.0         SE     ...        \n4         NaN      NaN           W           41.0        ENE     ...        \n\n  Humidity3pm  Pressure9am  Pressure3pm  Cloud9am  Cloud3pm  \\\n0        22.0       1007.7       1007.1       8.0       NaN   \n1        25.0       1010.6       1007.8       NaN       NaN   \n2        30.0       1007.6       1008.7       NaN       2.0   \n3        16.0       1017.6       1012.8       NaN       NaN   \n4        33.0       1010.8       1006.0       7.0       8.0   \n\n               Temp9am              Temp3pm  RainToday  RISK_MM RainTomorrow  \n0  2019-09-16 00:00:00  2019-08-21 00:00:00         No        0           No  \n1  2019-02-17 00:00:00  2019-03-24 00:00:00         No        0           No  \n2                   21  2019-02-23 00:00:00         No        0           No  \n3  2019-01-18 00:00:00  2019-05-26 00:00:00         No        1           No  \n4  2019-08-17 00:00:00  2019-07-29 00:00:00         No      0.2           No  \n\n[5 rows x 24 columns]"
          },
          "metadata": {}
        }
      ]
    },
    {
      "metadata": {
        "trusted": true
      },
      "cell_type": "code",
      "source": "",
      "execution_count": null,
      "outputs": []
    }
  ],
  "metadata": {
    "kernelspec": {
      "name": "python36",
      "display_name": "Python 3.6",
      "language": "python"
    },
    "language_info": {
      "mimetype": "text/x-python",
      "nbconvert_exporter": "python",
      "name": "python",
      "pygments_lexer": "ipython3",
      "version": "3.6.6",
      "file_extension": ".py",
      "codemirror_mode": {
        "version": 3,
        "name": "ipython"
      }
    }
  },
  "nbformat": 4,
  "nbformat_minor": 2
}